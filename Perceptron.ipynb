{
 "cells": [
  {
   "cell_type": "code",
   "execution_count": 2,
   "metadata": {
    "collapsed": true
   },
   "outputs": [],
   "source": [
    "%load_ext autoreload\n",
    "%autoreload 2\n",
    "%matplotlib inline\n",
    "\n",
    "from numpy import *\n",
    "#from IPython.html.widgets import *\n",
    "from ipywidgets import *\n",
    "from IPython.display import display\n",
    "import matplotlib.pyplot as plt\n",
    "from IPython.core.display import clear_output"
   ]
  },
  {
   "cell_type": "markdown",
   "metadata": {},
   "source": [
    "## Create dataset"
   ]
  },
  {
   "cell_type": "code",
   "execution_count": 3,
   "metadata": {
    "collapsed": false
   },
   "outputs": [
    {
     "data": {
      "image/png": "[encoded data removed]",
      "text/plain": [
       "<matplotlib.figure.Figure at 0x7f0c080>"
      ]
     },
     "metadata": {},
     "output_type": "display_data"
    }
   ],
   "source": [
    "from sklearn.datasets import make_blobs\n",
    "\n",
    "X = y = None # Global variables\n",
    "@interact\n",
    "def plot_blobs(n_samples=(10, 500),\n",
    "               center1_x=1.5,\n",
    "               center1_y=1.5,\n",
    "               center2_x=-1.5,\n",
    "               center2_y=-1.5):\n",
    "    centers=array([[center1_x, center1_y],[center2_x, center2_y]])\n",
    "    global X, y \n",
    "    X, y= make_blobs(n_samples=n_samples, n_features=2,\n",
    "                      centers=centers, cluster_std=1.0)\n",
    "    y = y*2 - 1  # To convert to {-1, 1}\n",
    "    \n",
    "    plt.scatter(X[:,0], X[:,1], c=y, edgecolor='none')\n",
    "    plt.xlim([-10,10]); plt.ylim([-10,10]); plt.grid()\n",
    "    plt.axes().set_aspect('equal')"
   ]
  },
  {
   "cell_type": "markdown",
   "metadata": {},
   "source": [
    "## Train"
   ]
  },
  {
   "cell_type": "code",
   "execution_count": 4,
   "metadata": {
    "collapsed": true
   },
   "outputs": [],
   "source": [
    "from sklearn.cross_validation import train_test_split\n",
    "\n",
    "# Plotting routine for perceptron training\n",
    "def predict(w, X):\n",
    "    \"\"\"Returns the predictions.\"\"\"\n",
    "    return sign(dot(c_[X, ones((X.shape[0], 1))], w))\n",
    "    \n",
    "def error01(w, X, y):\n",
    "    \"\"\"Calculates the mean 0/1 error.\"\"\"\n",
    "    return 1.0 - (predict(w, X) == y).mean()\n",
    "\n",
    "def perceptron_training(X,y,eta=0.1):\n",
    "    global w, errors\n",
    "    \n",
    "    # Split data to training and test\n",
    "    X_train, X_test, y_train, y_test = train_test_split(X, y, test_size=0.2)\n",
    "\n",
    "    # Plot the current predictions and the hyperplane\n",
    "    fig, axs = plt.subplots(1, 2, figsize=(10, 5))\n",
    "    axs[0].scatter(X_train[:,0], X_train[:,1], c=predict(w, X_train), edgecolor='none')\n",
    "    axs[0].set_xlim([-10,10]); axs[0].set_ylim([-10,10]); axs[0].grid()\n",
    "    axs[0].set_aspect('equal')\n",
    "    \n",
    "    # Draw the separating line\n",
    "    cw=-w[2]/(w[0]**2+w[1]**2)\n",
    "    ts=array([-100.0,100.0])\n",
    "    axs[0].plot(-w[1]*ts+w[0]*cw, w[0]*ts+w[1]*cw, linestyle='--', color='r')\n",
    "    axs[0].arrow(w[0]*cw,w[1]*cw, w[0], w[1], \n",
    "            head_width=0.5, head_length=0.5, fc='r', ec='r')    \n",
    "    \n",
    "    # Plot the classification errors\n",
    "    train_error, test_error = [error01(w, X_, y_) for X_, y_ in [[X_train, y_train], [X_test, y_test]]]\n",
    "    errors = r_[errors, array([train_error, test_error])[newaxis,:]]\n",
    "    axs[1].plot(errors)\n",
    "    axs[1].set_title('Classification Errors')\n",
    "    axs[1].set_ylim([0,1])\n",
    "    axs[1].legend(['Training','Test'])\n",
    "    \n",
    "    # Update w\n",
    "    w = update_w_all(w, X_train, y_train, eta)\n"
   ]
  },
  {
   "cell_type": "code",
   "execution_count": null,
   "metadata": {
    "collapsed": true
   },
   "outputs": [],
   "source": []
  }
 ],
 "metadata": {
  "kernelspec": {
   "display_name": "Python 2",
   "language": "python",
   "name": "python2"
  },
  "language_info": {
   "codemirror_mode": {
    "name": "ipython",
    "version": 2
   },
   "file_extension": ".py",
   "mimetype": "text/x-python",
   "name": "python",
   "nbconvert_exporter": "python",
   "pygments_lexer": "ipython2",
   "version": "2.7.11"
  }
 },
 "nbformat": 4,
 "nbformat_minor": 0
}
